{
 "cells": [
  {
   "cell_type": "code",
   "execution_count": 3,
   "metadata": {},
   "outputs": [
    {
     "name": "stdout",
     "output_type": "stream",
     "text": [
      "Loading word vectors from C:/Research/uugotit/german.model...\n",
      "File size is 703.85MB\n",
      "Be patient! This might take a while...\n",
      "Attempting to load as binary-format...\n",
      "Success!\n"
     ]
    }
   ],
   "source": [
    "import os\n",
    "import sys\n",
    "from gensim.models.keyedvectors import KeyedVectors\n",
    "\n",
    "def load_word_vectors():\n",
    "  word_vectors_model_filename = \"german.model\"\n",
    "  print(\"Loading word vectors from\",  word_vectors_model_filename + \"...\")\n",
    "  word_vectors_model_size = os.path.getsize(word_vectors_model_filename) / (1024.0 * 1024.0)\n",
    "  print(\"File size is {0:.2f}MB\".format(word_vectors_model_size))\n",
    "  print(\"Be patient! This might take a while...\")\n",
    "  word_vectors_model = None\n",
    "  try:\n",
    "    print(\"Attempting to load as binary-format...\")\n",
    "    word_vectors_model = KeyedVectors.load_word2vec_format(word_vectors_model_filename, binary=True)\n",
    "  except:\n",
    "    print(\"Failed!\")\n",
    "    exit(0)\n",
    "   \n",
    "  print(\"Success!\")\n",
    "  return word_vectors_model\n",
    "\n",
    "def getSimilarWords(model, inword):\n",
    "  most_similar_topten = model.most_similar(positive=[inword], topn=10)\n",
    "  print(\"Most similar top-10:\")\n",
    "  for i, most_similar in enumerate(most_similar_topten):\n",
    "    print(str(i + 1) + \":\", most_similar)\n",
    "\n",
    "model = load_word_vectors()"
   ]
  },
  {
   "cell_type": "markdown",
   "metadata": {},
   "source": [
    "Hier gesuchtes Wort eingeben:"
   ]
  },
  {
   "cell_type": "code",
   "execution_count": 8,
   "metadata": {},
   "outputs": [],
   "source": [
    "word = \"gehen\""
   ]
  },
  {
   "cell_type": "code",
   "execution_count": 9,
   "metadata": {},
   "outputs": [
    {
     "name": "stdout",
     "output_type": "stream",
     "text": [
      "Most similar top-10:\n",
      "1: ('gegangen', 0.7673594355583191)\n",
      "2: ('geht', 0.7389727830886841)\n",
      "3: ('gingen', 0.7291464805603027)\n",
      "4: ('gehe', 0.6708323359489441)\n",
      "5: ('Geht', 0.6374005079269409)\n",
      "6: ('ging', 0.632793128490448)\n",
      "7: ('laufen', 0.6268839836120605)\n",
      "8: ('ginge', 0.6265724301338196)\n",
      "9: ('gegangenen', 0.6104505062103271)\n",
      "10: ('kommen', 0.6011330485343933)\n"
     ]
    }
   ],
   "source": [
    "getSimilarWords(model, word)"
   ]
  },
  {
   "cell_type": "code",
   "execution_count": null,
   "metadata": {},
   "outputs": [],
   "source": []
  }
 ],
 "metadata": {
  "kernelspec": {
   "display_name": "Python 3",
   "language": "python",
   "name": "python3"
  },
  "language_info": {
   "codemirror_mode": {
    "name": "ipython",
    "version": 3
   },
   "file_extension": ".py",
   "mimetype": "text/x-python",
   "name": "python",
   "nbconvert_exporter": "python",
   "pygments_lexer": "ipython3",
   "version": "3.6.4"
  }
 },
 "nbformat": 4,
 "nbformat_minor": 2
}
